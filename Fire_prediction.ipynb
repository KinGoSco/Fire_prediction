{
 "cells": [
  {
   "cell_type": "code",
   "execution_count": null,
   "id": "7d7fc5ee",
   "metadata": {},
   "outputs": [],
   "source": [
    "import numpy as np # linear algebra\n",
    "import pandas as pd # data processing, CSV file I/O (e.g. pd.read_csv)\n",
    "import matplotlib.pyplot as plt"
   ]
  },
  {
   "cell_type": "code",
   "execution_count": null,
   "id": "4a94e930",
   "metadata": {},
   "outputs": [],
   "source": [
    "import pathlib\n",
    "fire_image_path_array = [\"../input/forest-fire-images/Data/Train_Data/Fire\",\"/kaggle/input/forest-fire-image-dataset/FOREST_FIRE_DATASET/FIRE\",\"/kaggle/input/fire-dataset/fire_dataset/fire_images\",\"/kaggle/input/forest-fire-images/Data/Test_Data/Fire\",\"/kaggle/input/test-dataset/Fire-Detection/1\",\"/kaggle/input/fire-and-smoke-dataset/Datacluster Fire and Smoke Sample\"]\n",
    "non_fire_path_array = [\"../input/forest-fire-images/Data/Train_Data/Non_Fire\",\"/kaggle/input/forest-fire-image-dataset/FOREST_FIRE_DATASET/NON_FIRE\",\"/kaggle/input/fire-dataset/fire_dataset/non_fire_images\",\"/kaggle/input/forest-fire-images/Data/Test_Data/Non_Fire\",\"/kaggle/input/test-dataset/Fire-Detection/0\"]\n",
    "fire_image_path = pathlib.Path(fire_image_path_array[0])\n",
    "non_fire_path = pathlib.Path(non_fire_path_array[0])\n",
    "for path in fire_image_path_array[1:]:\n",
    "    fire_image_path.joinpath(path)\n",
    "    \n",
    "for path in non_fire_path_array[1:]:\n",
    "    non_fire_path.joinpath(path)"
   ]
  },
  {
   "cell_type": "code",
   "execution_count": null,
   "id": "db9331fc",
   "metadata": {},
   "outputs": [],
   "source": [
    "import glob\n",
    "from itertools import chain\n",
    "\n",
    "train_data_images = {\n",
    "    \"Fire\":list(chain(fire_image_path.glob('*.jpg'), fire_image_path.glob('*.png'))),\n",
    "    \"NonFire\":list(chain(non_fire_path.glob('*.jpg'), non_fire_path.glob('*.png')))\n",
    "}\n",
    "train_labels = {\n",
    "    \"Fire\":0,\"NonFire\":1\n",
    "}"
   ]
  },
  {
   "cell_type": "code",
   "execution_count": null,
   "id": "2e62243c",
   "metadata": {},
   "outputs": [],
   "source": [
    "import PIL\n",
    "import cv2\n",
    "import matplotlib.pyplot as plt\n",
    "import seaborn \n",
    "import tensorflow as tf\n",
    "from tensorflow import keras\n",
    "%matplotlib inline"
   ]
  },
  {
   "cell_type": "code",
   "execution_count": null,
   "id": "69a68875",
   "metadata": {},
   "outputs": [],
   "source": [
    "X, y = [], []\n",
    "for label, images in train_data_images.items():\n",
    "    for image in images:\n",
    "        img = cv2.imread(str(image)) # Reading the image\n",
    "        if img is not None:\n",
    "            img = cv2.cvtColor(img, cv2.COLOR_BGR2RGB)\n",
    "            img = cv2.resize(img, (180, 180))\n",
    "            X.append(img)\n",
    "            y.append(train_labels[label])"
   ]
  },
  {
   "cell_type": "code",
   "execution_count": null,
   "id": "98f115d5",
   "metadata": {},
   "outputs": [],
   "source": [
    "import numpy\n",
    "X_samp = numpy.array(X)\n",
    "y_samp = numpy.array(y)"
   ]
  },
  {
   "cell_type": "code",
   "execution_count": null,
   "id": "e7ba55ef",
   "metadata": {},
   "outputs": [],
   "source": [
    "X_samp = (X_samp/255)"
   ]
  },
  {
   "cell_type": "code",
   "execution_count": null,
   "id": "49980b75",
   "metadata": {},
   "outputs": [],
   "source": [
    "X_samp.shape\n"
   ]
  },
  {
   "cell_type": "code",
   "execution_count": null,
   "id": "dcf33da9",
   "metadata": {},
   "outputs": [],
   "source": [
    "from sklearn.model_selection import train_test_split\n",
    "X_train, X_test, y_train, y_test = train_test_split(X_samp, y_samp, test_size=0.2)"
   ]
  },
  {
   "cell_type": "code",
   "execution_count": null,
   "id": "ecbecf3d",
   "metadata": {},
   "outputs": [],
   "source": [
    "data_argumentation = keras.Sequential([\n",
    "    keras.layers.experimental.preprocessing.RandomContrast(0.2),\n",
    "    keras.layers.experimental.preprocessing.RandomRotation(0.1),\n",
    "    keras.layers.experimental.preprocessing.RandomZoom(0.2),\n",
    "]"
   ]
  },
  {
   "cell_type": "code",
   "execution_count": null,
   "id": "7f975d97",
   "metadata": {},
   "outputs": [],
   "source": [
    "plt.imshow(X_train[0])"
   ]
  },
  {
   "cell_type": "code",
   "execution_count": null,
   "id": "c19712a1",
   "metadata": {},
   "outputs": [],
   "source": [
    "for i in range(8):\n",
    "    plt.imshow(data_argumentation(X_train[0]))\n",
    "    plt.show()"
   ]
  },
  {
   "cell_type": "code",
   "execution_count": null,
   "id": "fe397013",
   "metadata": {},
   "outputs": [],
   "source": [
    "model = keras.Sequential([\n",
    "    data_argumentation,\n",
    "    keras.layers.Conv2D(64, (3,3), padding='same', activation=\"relu\", input_shape=(180, 180, 3)),\n",
    "    keras.layers.MaxPooling2D(),\n",
    "    keras.layers.Conv2D(32, (3,3), padding='same', activation=\"softmax\"),\n",
    "    keras.layers.MaxPooling2D(),\n",
    "    keras.layers.Conv2D(16, (3,3), padding='same', activation=\"softmax\"),\n",
    "    keras.layers.MaxPooling2D(),\n",
    "    keras.layers.Dropout(0.2),\n",
    "    keras.layers.Flatten(),\n",
    "    keras.layers.Dense(10, activation=\"sigmoid\"),\n",
    "    keras.layers.Dense(1, activation=\"sigmoid\")\n",
    "])\n",
    "model.compile(optimizer=\"adam\", loss='binary_crossentropy', metrics=[\"accuracy\"])\n"
   ]
  },
  {
   "cell_type": "code",
   "execution_count": null,
   "id": "744a7a86",
   "metadata": {},
   "outputs": [],
   "source": [
    "model.fit(X_train, y_train, epochs=20, batch_size=32, validation_data=(X_test, y_test))"
   ]
  }
 ],
 "metadata": {
  "kernelspec": {
   "display_name": "Python 3 (ipykernel)",
   "language": "python",
   "name": "python3"
  },
  "language_info": {
   "codemirror_mode": {
    "name": "ipython",
    "version": 3
   },
   "file_extension": ".py",
   "mimetype": "text/x-python",
   "name": "python",
   "nbconvert_exporter": "python",
   "pygments_lexer": "ipython3",
   "version": "3.9.13"
  }
 },
 "nbformat": 4,
 "nbformat_minor": 5
}
